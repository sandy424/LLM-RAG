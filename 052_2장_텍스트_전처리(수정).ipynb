{
  "cells": [
    {
      "cell_type": "markdown",
      "metadata": {
        "id": "ytpIoDEgxx6e"
      },
      "source": [
        "# Chapter 2. 텍스트 전처리"
      ]
    },
    {
      "cell_type": "markdown",
      "metadata": {
        "id": "3ycBPGaUxx6h"
      },
      "source": [
        "## 2. 토큰화(Tokenization)"
      ]
    },
    {
      "cell_type": "markdown",
      "metadata": {
        "id": "gl-sV7iaxx6h"
      },
      "source": [
        "#### NLTK (https://www.nltk.org/) 설치"
      ]
    },
    {
      "cell_type": "code",
      "execution_count": null,
      "metadata": {
        "colab": {
          "base_uri": "https://localhost:8080/"
        },
        "id": "fXe7uHzvxx6i",
        "outputId": "36946058-941c-45d8-c19f-5930a7e29902"
      },
      "outputs": [
        {
          "output_type": "stream",
          "name": "stderr",
          "text": [
            "[nltk_data] Downloading package punkt to /root/nltk_data...\n",
            "[nltk_data]   Package punkt is already up-to-date!\n",
            "[nltk_data] Downloading package webtext to /root/nltk_data...\n",
            "[nltk_data]   Package webtext is already up-to-date!\n",
            "[nltk_data] Downloading package wordnet to /root/nltk_data...\n",
            "[nltk_data]   Package wordnet is already up-to-date!\n",
            "[nltk_data] Downloading package stopwords to /root/nltk_data...\n",
            "[nltk_data]   Package stopwords is already up-to-date!\n",
            "[nltk_data] Downloading package averaged_perceptron_tagger to\n",
            "[nltk_data]     /root/nltk_data...\n",
            "[nltk_data]   Package averaged_perceptron_tagger is already up-to-\n",
            "[nltk_data]       date!\n",
            "[nltk_data] Downloading package omw-1.4 to /root/nltk_data...\n",
            "[nltk_data]   Package omw-1.4 is already up-to-date!\n",
            "[nltk_data] Downloading package punkt_tab to /root/nltk_data...\n",
            "[nltk_data]   Package punkt_tab is already up-to-date!\n",
            "[nltk_data] Downloading package averaged_perceptron_tagger_eng to\n",
            "[nltk_data]     /root/nltk_data...\n",
            "[nltk_data]   Package averaged_perceptron_tagger_eng is already up-to-\n",
            "[nltk_data]       date!\n",
            "[nltk_data] Downloading package tagsets_json to /root/nltk_data...\n",
            "[nltk_data]   Unzipping help/tagsets_json.zip.\n"
          ]
        },
        {
          "output_type": "execute_result",
          "data": {
            "text/plain": [
              "True"
            ]
          },
          "metadata": {},
          "execution_count": 34
        }
      ],
      "source": [
        "# 필요한 nltk library download\n",
        "import nltk\n",
        "nltk.download('punkt')\n",
        "nltk.download('webtext')\n",
        "nltk.download('wordnet')\n",
        "nltk.download('stopwords')\n",
        "nltk.download('averaged_perceptron_tagger')\n",
        "nltk.download('omw-1.4')\n",
        "nltk.download('punkt_tab')\n",
        "nltk.download('averaged_perceptron_tagger_eng')\n",
        "nltk.download('tagsets_json')"
      ]
    },
    {
      "cell_type": "markdown",
      "metadata": {
        "id": "NUSxSdjaxx6k"
      },
      "source": [
        "### 2.1 문장 토큰화(sentence tokenize)"
      ]
    },
    {
      "cell_type": "code",
      "execution_count": null,
      "metadata": {
        "id": "cinOfv6fxx6k"
      },
      "outputs": [],
      "source": [
        "para = \"Hello everyone. It's good to see you. Let's start our text mining class!\""
      ]
    },
    {
      "cell_type": "code",
      "execution_count": null,
      "metadata": {
        "colab": {
          "base_uri": "https://localhost:8080/"
        },
        "id": "Eg74zAvFxx6k",
        "outputId": "13c133a3-63e7-481d-99cc-51a5220f2d95"
      },
      "outputs": [
        {
          "output_type": "stream",
          "name": "stdout",
          "text": [
            "['Hello everyone.', \"It's good to see you.\", \"Let's start our text mining class!\"]\n"
          ]
        }
      ],
      "source": [
        "from nltk.tokenize import sent_tokenize\n",
        "print(sent_tokenize(para)) #주어진 text를 sentence 단위로 tokenize함. 주로 . ! ? 등을 이용"
      ]
    },
    {
      "cell_type": "code",
      "execution_count": null,
      "metadata": {
        "colab": {
          "base_uri": "https://localhost:8080/"
        },
        "id": "RwB3r97Sxx6l",
        "outputId": "443ade4f-1d2e-4e00-f5a9-b4cb0744c1ad"
      },
      "outputs": [
        {
          "output_type": "stream",
          "name": "stdout",
          "text": [
            "[\"Je t'ai demandé si tu m'aimais bien, Tu m'a répondu non.\", \"Je t'ai demandé si j'étais jolie, Tu m'a répondu non.\", \"Je t'ai demandé si j'étai dans ton coeur, Tu m'a répondu non.\"]\n"
          ]
        }
      ],
      "source": [
        "paragraph_french = \"\"\"Je t'ai demandé si tu m'aimais bien, Tu m'a répondu non.\n",
        "Je t'ai demandé si j'étais jolie, Tu m'a répondu non.\n",
        "Je t'ai demandé si j'étai dans ton coeur, Tu m'a répondu non.\"\"\"\n",
        "\n",
        "import nltk.data\n",
        "tokenizer = nltk.data.load('tokenizers/punkt/french.pickle')\n",
        "print(tokenizer.tokenize(paragraph_french))"
      ]
    },
    {
      "cell_type": "code",
      "execution_count": null,
      "metadata": {
        "id": "NWvvFJYGxx6l"
      },
      "outputs": [],
      "source": [
        "para_kor = \"안녕하세요, 여러분. 만나서 반갑습니다. 이제 텍스트마이닝 클래스를 시작해봅시다!\""
      ]
    },
    {
      "cell_type": "code",
      "execution_count": null,
      "metadata": {
        "colab": {
          "base_uri": "https://localhost:8080/"
        },
        "id": "_4AxCW91xx6l",
        "outputId": "e094653c-4ae2-401f-e0b3-f567ce51e1b4"
      },
      "outputs": [
        {
          "output_type": "stream",
          "name": "stdout",
          "text": [
            "['안녕하세요, 여러분.', '만나서 반갑습니다.', '이제 텍스트마이닝 클래스를 시작해봅시다!']\n"
          ]
        }
      ],
      "source": [
        "print(sent_tokenize(para_kor)) #한국어에 대해서도 sentence tokenizer는 잘 동작함"
      ]
    },
    {
      "cell_type": "markdown",
      "metadata": {
        "id": "Qgvm77k2xx6l"
      },
      "source": [
        "### 2.2 단어 토큰화 (word tokenize)"
      ]
    },
    {
      "cell_type": "code",
      "execution_count": null,
      "metadata": {
        "colab": {
          "base_uri": "https://localhost:8080/"
        },
        "id": "v--UsKB1xx6m",
        "outputId": "25ec3f4c-a829-48ef-d057-47dd62a0189f"
      },
      "outputs": [
        {
          "output_type": "stream",
          "name": "stdout",
          "text": [
            "['Hello', 'everyone', '.', 'It', \"'s\", 'good', 'to', 'see', 'you', '.', 'Let', \"'s\", 'start', 'our', 'text', 'mining', 'class', '!']\n"
          ]
        }
      ],
      "source": [
        "from nltk.tokenize import word_tokenize\n",
        "print(word_tokenize(para)) #주어진 text를 word 단위로 tokenize함"
      ]
    },
    {
      "cell_type": "code",
      "execution_count": null,
      "metadata": {
        "colab": {
          "base_uri": "https://localhost:8080/"
        },
        "id": "YN8Asvwrxx6m",
        "outputId": "5372339f-efb0-4fb3-c9d1-13582a0a9740"
      },
      "outputs": [
        {
          "output_type": "stream",
          "name": "stdout",
          "text": [
            "['Hello', 'everyone', '.', 'It', \"'\", 's', 'good', 'to', 'see', 'you', '.', 'Let', \"'\", 's', 'start', 'our', 'text', 'mining', 'class', '!']\n"
          ]
        }
      ],
      "source": [
        "from nltk.tokenize import WordPunctTokenizer\n",
        "print(WordPunctTokenizer().tokenize(para))"
      ]
    },
    {
      "cell_type": "code",
      "execution_count": null,
      "metadata": {
        "colab": {
          "base_uri": "https://localhost:8080/"
        },
        "id": "K0v0RQ6jxx6m",
        "outputId": "2a0c1285-649e-438e-97d4-241c03d21eb8"
      },
      "outputs": [
        {
          "output_type": "stream",
          "name": "stdout",
          "text": [
            "['안녕하세요', ',', '여러분', '.', '만나서', '반갑습니다', '.', '이제', '텍스트마이닝', '클래스를', '시작해봅시다', '!']\n"
          ]
        }
      ],
      "source": [
        "print(word_tokenize(para_kor))"
      ]
    },
    {
      "cell_type": "markdown",
      "metadata": {
        "id": "mEXSR594xx6m"
      },
      "source": [
        "### 2.3 정규표현식을 이용한 토큰화"
      ]
    },
    {
      "cell_type": "code",
      "execution_count": null,
      "metadata": {
        "colab": {
          "base_uri": "https://localhost:8080/"
        },
        "id": "oSO7ns7Yxx6m",
        "outputId": "73aec4ad-ecaf-4db8-cfdb-744c9117ec70"
      },
      "outputs": [
        {
          "output_type": "execute_result",
          "data": {
            "text/plain": [
              "['a', 'b']"
            ]
          },
          "metadata": {},
          "execution_count": 13
        }
      ],
      "source": [
        "import re\n",
        "re.findall(\"[abc]\", \"How are you, boy?\")"
      ]
    },
    {
      "cell_type": "code",
      "execution_count": null,
      "metadata": {
        "colab": {
          "base_uri": "https://localhost:8080/"
        },
        "id": "n-OeKz2mxx6n",
        "outputId": "cbf3b248-852b-4994-f0f3-312d6233f60e"
      },
      "outputs": [
        {
          "output_type": "execute_result",
          "data": {
            "text/plain": [
              "['3', '7', '5', '9']"
            ]
          },
          "metadata": {},
          "execution_count": 14
        }
      ],
      "source": [
        "re.findall(\"[0123456789]\", \"3a7b5c9d\")"
      ]
    },
    {
      "cell_type": "code",
      "execution_count": null,
      "metadata": {
        "colab": {
          "base_uri": "https://localhost:8080/"
        },
        "id": "XSiu7gE8xx6n",
        "outputId": "c9882b31-3d23-4e27-df75-a37e04f279f5"
      },
      "outputs": [
        {
          "output_type": "stream",
          "name": "stderr",
          "text": [
            "<>:1: SyntaxWarning: invalid escape sequence '\\w'\n",
            "<>:1: SyntaxWarning: invalid escape sequence '\\w'\n",
            "/tmp/ipython-input-2942213215.py:1: SyntaxWarning: invalid escape sequence '\\w'\n",
            "  re.findall(\"[\\w]\", \"3a 7b_ '.^&5c9d\")\n"
          ]
        },
        {
          "output_type": "execute_result",
          "data": {
            "text/plain": [
              "['3', 'a', '7', 'b', '_', '5', 'c', '9', 'd']"
            ]
          },
          "metadata": {},
          "execution_count": 15
        }
      ],
      "source": [
        "re.findall(\"[\\w]\", \"3a 7b_ '.^&5c9d\")"
      ]
    },
    {
      "cell_type": "code",
      "execution_count": null,
      "metadata": {
        "colab": {
          "base_uri": "https://localhost:8080/"
        },
        "id": "PM-BJAfNxx6n",
        "outputId": "1812c0d0-1b7d-4ab8-ac59-3f2f9affb621"
      },
      "outputs": [
        {
          "output_type": "execute_result",
          "data": {
            "text/plain": [
              "['_', '__', '___']"
            ]
          },
          "metadata": {},
          "execution_count": 16
        }
      ],
      "source": [
        "re.findall(\"[_]+\", \"a_b, c__d, e___f\")"
      ]
    },
    {
      "cell_type": "code",
      "execution_count": null,
      "metadata": {
        "colab": {
          "base_uri": "https://localhost:8080/"
        },
        "id": "mS-k-zf8xx6n",
        "outputId": "0a1ab78d-65ce-4a44-a452-1241543a3264"
      },
      "outputs": [
        {
          "output_type": "stream",
          "name": "stderr",
          "text": [
            "<>:1: SyntaxWarning: invalid escape sequence '\\w'\n",
            "<>:1: SyntaxWarning: invalid escape sequence '\\w'\n",
            "/tmp/ipython-input-2398766350.py:1: SyntaxWarning: invalid escape sequence '\\w'\n",
            "  re.findall(\"[\\w]+\", \"How are you, boy?\")\n"
          ]
        },
        {
          "output_type": "execute_result",
          "data": {
            "text/plain": [
              "['How', 'are', 'you', 'boy']"
            ]
          },
          "metadata": {},
          "execution_count": 17
        }
      ],
      "source": [
        "re.findall(\"[\\w]+\", \"How are you, boy?\")"
      ]
    },
    {
      "cell_type": "code",
      "execution_count": null,
      "metadata": {
        "colab": {
          "base_uri": "https://localhost:8080/"
        },
        "id": "JbpOS_3Qxx6n",
        "outputId": "f80e2ab8-153d-435f-8ff0-a2de37f7315e"
      },
      "outputs": [
        {
          "output_type": "execute_result",
          "data": {
            "text/plain": [
              "['oo', 'oooo', 'oooo', 'ooo']"
            ]
          },
          "metadata": {},
          "execution_count": 18
        }
      ],
      "source": [
        "re.findall(\"[o]{2,4}\", \"oh, hoow are yoooou, boooooooy?\")"
      ]
    },
    {
      "cell_type": "code",
      "execution_count": null,
      "metadata": {
        "colab": {
          "base_uri": "https://localhost:8080/"
        },
        "id": "95Uo0u2Uxx6n",
        "outputId": "da432d63-3d21-42f1-f2ae-e4432ae4baac"
      },
      "outputs": [
        {
          "output_type": "stream",
          "name": "stdout",
          "text": [
            "['Sorry', 'I', \"can't\", 'go', 'there']\n"
          ]
        },
        {
          "output_type": "stream",
          "name": "stderr",
          "text": [
            "<>:2: SyntaxWarning: invalid escape sequence '\\w'\n",
            "<>:2: SyntaxWarning: invalid escape sequence '\\w'\n",
            "/tmp/ipython-input-4040891830.py:2: SyntaxWarning: invalid escape sequence '\\w'\n",
            "  tokenizer = RegexpTokenizer(\"[\\w']+\") #regular expression(정규식)을 이용한 tokenizer\n"
          ]
        }
      ],
      "source": [
        "from nltk.tokenize import RegexpTokenizer\n",
        "tokenizer = RegexpTokenizer(\"[\\w']+\") #regular expression(정규식)을 이용한 tokenizer\n",
        "#단어단위로 tokenize \\w:문자나 숫자를 의미 즉 문자나 숫자 혹은 '가 반복되는 것을 찾아냄\n",
        "print(tokenizer.tokenize(\"Sorry, I can't go there.\"))\n",
        "# can't를 하나의 단어로 인식"
      ]
    },
    {
      "cell_type": "code",
      "execution_count": null,
      "metadata": {
        "colab": {
          "base_uri": "https://localhost:8080/"
        },
        "id": "koPyrXSXxx6o",
        "outputId": "9bdd4724-4a83-42d5-81b9-af750994e62b"
      },
      "outputs": [
        {
          "output_type": "stream",
          "name": "stdout",
          "text": [
            "['Sorry', 'I', 'can', 't', 'go', 'there']\n"
          ]
        },
        {
          "output_type": "stream",
          "name": "stderr",
          "text": [
            "<>:1: SyntaxWarning: invalid escape sequence '\\w'\n",
            "<>:1: SyntaxWarning: invalid escape sequence '\\w'\n",
            "/tmp/ipython-input-1179567454.py:1: SyntaxWarning: invalid escape sequence '\\w'\n",
            "  tokenizer = RegexpTokenizer(\"[\\w]+\")\n"
          ]
        }
      ],
      "source": [
        "tokenizer = RegexpTokenizer(\"[\\w]+\")\n",
        "print(tokenizer.tokenize(\"Sorry, I can't go there.\"))"
      ]
    },
    {
      "cell_type": "code",
      "execution_count": null,
      "metadata": {
        "colab": {
          "base_uri": "https://localhost:8080/"
        },
        "id": "DQlL3cmOxx6o",
        "outputId": "42de23f5-344a-4b4d-8d72-029d5e306051"
      },
      "outputs": [
        {
          "output_type": "stream",
          "name": "stdout",
          "text": [
            "['sorry', \"can't\", 'there']\n"
          ]
        },
        {
          "output_type": "stream",
          "name": "stderr",
          "text": [
            "<>:2: SyntaxWarning: invalid escape sequence '\\w'\n",
            "<>:2: SyntaxWarning: invalid escape sequence '\\w'\n",
            "/tmp/ipython-input-2755625217.py:2: SyntaxWarning: invalid escape sequence '\\w'\n",
            "  tokenizer = RegexpTokenizer(\"[\\w']{3,}\")\n"
          ]
        }
      ],
      "source": [
        "text1 = \"Sorry, I can't go there.\"\n",
        "tokenizer = RegexpTokenizer(\"[\\w']{3,}\")\n",
        "print(tokenizer.tokenize(text1.lower()))"
      ]
    },
    {
      "cell_type": "markdown",
      "metadata": {
        "id": "oJxmrH9oxx6o"
      },
      "source": [
        "### 2.4 노이즈와 불용어 제거"
      ]
    },
    {
      "cell_type": "code",
      "execution_count": null,
      "metadata": {
        "colab": {
          "base_uri": "https://localhost:8080/"
        },
        "id": "VO-bG876xx6o",
        "outputId": "790cf83f-4998-40e1-d2e0-71b63c93e8ed"
      },
      "outputs": [
        {
          "output_type": "stream",
          "name": "stdout",
          "text": [
            "['sorry', 'go', 'movie', 'yesterday']\n"
          ]
        },
        {
          "output_type": "stream",
          "name": "stderr",
          "text": [
            "<>:6: SyntaxWarning: invalid escape sequence '\\w'\n",
            "<>:6: SyntaxWarning: invalid escape sequence '\\w'\n",
            "/tmp/ipython-input-2993606505.py:6: SyntaxWarning: invalid escape sequence '\\w'\n",
            "  tokenizer = RegexpTokenizer(\"[\\w']+\")\n"
          ]
        }
      ],
      "source": [
        "from nltk.corpus import stopwords #일반적으로 분석대상이 아닌 단어들\n",
        "english_stops = set(stopwords.words('english')) #반복이 되지 않도록 set으로 변환\n",
        "\n",
        "text1 = \"Sorry, I couldn't go to movie yesterday.\"\n",
        "\n",
        "tokenizer = RegexpTokenizer(\"[\\w']+\")\n",
        "tokens = tokenizer.tokenize(text1.lower()) #word_tokenize로 토큰화\n",
        "\n",
        "result = [word for word in tokens if word not in english_stops] #stopwords를 제외한 단어들만으로 list를 생성\n",
        "print(result)"
      ]
    },
    {
      "cell_type": "code",
      "execution_count": null,
      "metadata": {
        "colab": {
          "base_uri": "https://localhost:8080/"
        },
        "id": "LfH4p4iNxx6o",
        "outputId": "fe04e75a-0567-4792-9cec-fb606188a0ea"
      },
      "outputs": [
        {
          "output_type": "stream",
          "name": "stdout",
          "text": [
            "{'been', \"they're\", 'very', \"doesn't\", 'each', 'most', 'but', \"she'll\", 't', \"aren't\", \"mustn't\", 'whom', 'if', 'd', 'haven', \"you're\", 'yourselves', 'there', 'where', 'again', 'an', 'me', \"shan't\", 'its', 'you', \"don't\", \"i've\", 'doing', 'into', 'so', 'before', 'how', 'did', 'needn', \"needn't\", 'about', 'this', 'his', 'here', \"they'd\", \"you've\", \"they'll\", 'such', \"won't\", \"isn't\", 'because', 'they', 'a', 'couldn', 'then', 'nor', 'under', 'him', 'didn', 'against', 'few', 're', \"we'd\", 'just', 'during', 'at', \"should've\", 'any', 'we', 'same', 'which', 'hadn', 'o', 'between', 'after', 'shouldn', 'out', \"he'd\", 'further', 'doesn', \"we're\", 'y', 'being', 'm', 'it', 'aren', 'as', \"shouldn't\", \"you'll\", 'while', 'until', 'ours', 's', 'for', 'some', 'when', 'with', 'don', \"it'd\", 'mustn', 'theirs', \"we'll\", \"haven't\", \"wouldn't\", 'were', 'had', 'does', 'those', 'no', 'be', 'do', \"they've\", 'by', 'through', 'was', 'these', 'and', \"couldn't\", 'itself', 'their', \"i'm\", 'themselves', 'down', \"i'll\", \"hadn't\", 'only', 'why', 'up', \"weren't\", 'wouldn', 'below', 'hasn', \"you'd\", 'yourself', 'now', 'from', \"she's\", 'he', \"mightn't\", 'has', 'over', 'shan', 'than', 'or', 'mightn', 'who', 'should', 'hers', \"wasn't\", 'myself', 'to', 'my', 've', \"he'll\", 'in', 'herself', \"it'll\", 'is', 'not', 'she', 'weren', 'on', 'are', 'ma', 'have', 'our', \"that'll\", 'own', 'off', 'll', 'won', 'the', 'am', \"we've\", 'himself', 'that', \"didn't\", 'can', \"hasn't\", 'ourselves', 'her', 'above', 'yours', 'will', \"i'd\", 'isn', 'having', 'other', \"she'd\", 'all', 'them', 'ain', 'too', 'what', 'your', 'more', 'i', 'both', \"it's\", 'wasn', 'once', 'of', \"he's\"}\n"
          ]
        }
      ],
      "source": [
        "print(english_stops) #nltk가 제공하는 영어 stopword를 확인"
      ]
    },
    {
      "cell_type": "code",
      "execution_count": null,
      "metadata": {
        "colab": {
          "base_uri": "https://localhost:8080/"
        },
        "id": "RVOn64zLxx6o",
        "outputId": "1cb1459a-20a7-42bd-c664-b2a0362d6b1f"
      },
      "outputs": [
        {
          "output_type": "stream",
          "name": "stdout",
          "text": [
            "['sorry', \"couldn't\", 'movie', 'yesterday']\n"
          ]
        }
      ],
      "source": [
        "#자신만의 stopwords를 만들고 이용\n",
        "#한글처리에서도 유용하게 사용할 수 있음\n",
        "my_stopword = ['i', 'go', 'to'] #나만의 stopword를 리스트로 정의\n",
        "result = [word for word in tokens if word not in my_stopword]\n",
        "print(result)"
      ]
    },
    {
      "cell_type": "markdown",
      "metadata": {
        "id": "LuU_st47xx6p"
      },
      "source": [
        "# 2. 정규화(Normalization)\n",
        "## 2.1 어간 추출(Stemming)"
      ]
    },
    {
      "cell_type": "code",
      "execution_count": null,
      "metadata": {
        "colab": {
          "base_uri": "https://localhost:8080/"
        },
        "id": "G-MVgHwgxx6p",
        "outputId": "ec30389c-f215-4eb8-b15d-a51f087d5009"
      },
      "outputs": [
        {
          "output_type": "stream",
          "name": "stdout",
          "text": [
            "cook cookeri cookbook\n"
          ]
        }
      ],
      "source": [
        "from nltk.stem import PorterStemmer\n",
        "stemmer = PorterStemmer()\n",
        "print(stemmer.stem('cooking'), stemmer.stem('cookery'), stemmer.stem('cookbooks'))"
      ]
    },
    {
      "cell_type": "code",
      "execution_count": null,
      "metadata": {
        "colab": {
          "base_uri": "https://localhost:8080/"
        },
        "id": "6RRQS-wixx6p",
        "outputId": "fbb692b6-be6b-498a-98d8-e106c343711e"
      },
      "outputs": [
        {
          "output_type": "stream",
          "name": "stdout",
          "text": [
            "['Hello', 'everyone', '.', 'It', \"'s\", 'good', 'to', 'see', 'you', '.', 'Let', \"'s\", 'start', 'our', 'text', 'mining', 'class', '!']\n",
            "['hello', 'everyon', '.', 'it', \"'s\", 'good', 'to', 'see', 'you', '.', 'let', \"'s\", 'start', 'our', 'text', 'mine', 'class', '!']\n"
          ]
        }
      ],
      "source": [
        "from nltk.tokenize import word_tokenize\n",
        "\n",
        "para = \"Hello everyone. It's good to see you. Let's start our text mining class!\"\n",
        "tokens = word_tokenize(para) #토큰화 실행\n",
        "print(tokens)\n",
        "result = [stemmer.stem(token) for token in tokens] #모든 토큰에 대해 스테밍 실행\n",
        "print(result)"
      ]
    },
    {
      "cell_type": "code",
      "execution_count": null,
      "metadata": {
        "colab": {
          "base_uri": "https://localhost:8080/"
        },
        "id": "QzvSn78Lxx6p",
        "outputId": "7ce50b40-869d-4f06-f411-e6599f4f6126"
      },
      "outputs": [
        {
          "output_type": "stream",
          "name": "stdout",
          "text": [
            "cook cookery cookbook\n"
          ]
        }
      ],
      "source": [
        "from nltk.stem import LancasterStemmer\n",
        "stemmer = LancasterStemmer()\n",
        "print(stemmer.stem('cooking'), stemmer.stem('cookery'), stemmer.stem('cookbooks'))"
      ]
    },
    {
      "cell_type": "markdown",
      "metadata": {
        "id": "QRBn9cHSxx6p"
      },
      "source": [
        "## 2.2 표제어 추출(Lemmatization)"
      ]
    },
    {
      "cell_type": "code",
      "execution_count": null,
      "metadata": {
        "colab": {
          "base_uri": "https://localhost:8080/"
        },
        "id": "71y8rXPdxx6p",
        "outputId": "92217ab4-046a-47e7-c2e5-f8263bc198ac"
      },
      "outputs": [
        {
          "output_type": "stream",
          "name": "stdout",
          "text": [
            "cooking\n",
            "cook\n",
            "cookery\n",
            "cookbook\n"
          ]
        }
      ],
      "source": [
        "from nltk.stem import WordNetLemmatizer\n",
        "lemmatizer = WordNetLemmatizer()\n",
        "print(lemmatizer.lemmatize('cooking'))\n",
        "print(lemmatizer.lemmatize('cooking', pos='v')) #품사를 지정\n",
        "print(lemmatizer.lemmatize('cookery'))\n",
        "print(lemmatizer.lemmatize('cookbooks'))"
      ]
    },
    {
      "cell_type": "code",
      "execution_count": null,
      "metadata": {
        "scrolled": true,
        "colab": {
          "base_uri": "https://localhost:8080/"
        },
        "id": "_SsRmVuoxx6q",
        "outputId": "41dfc59b-ff52-4361-8f9d-304cca7c6349"
      },
      "outputs": [
        {
          "output_type": "stream",
          "name": "stdout",
          "text": [
            "stemming result: believ\n",
            "lemmatizing result: belief\n",
            "lemmatizing result: believe\n"
          ]
        }
      ],
      "source": [
        "#comparison of lemmatizing and stemming\n",
        "from nltk.stem import PorterStemmer\n",
        "stemmer = PorterStemmer()\n",
        "print('stemming result:', stemmer.stem('believes'))\n",
        "print('lemmatizing result:', lemmatizer.lemmatize('believes'))\n",
        "print('lemmatizing result:', lemmatizer.lemmatize('believes', pos='v'))"
      ]
    },
    {
      "cell_type": "markdown",
      "metadata": {
        "id": "PyciHhFyxx6q"
      },
      "source": [
        "# 3. 품사 태깅(Part-of-Speech Tagging)"
      ]
    },
    {
      "cell_type": "markdown",
      "metadata": {
        "id": "N_j0aVVcxx6q"
      },
      "source": [
        "## 3.1 품사의 이해"
      ]
    },
    {
      "cell_type": "markdown",
      "metadata": {
        "id": "kGWPM9pyxx6q"
      },
      "source": [
        "## 3.2 NLTK를 이용한 품사 태깅"
      ]
    },
    {
      "cell_type": "code",
      "execution_count": null,
      "metadata": {
        "colab": {
          "base_uri": "https://localhost:8080/"
        },
        "id": "jlvvJ7FRxx6q",
        "outputId": "a4d75049-5e99-4f43-c8dc-3f2aae9e6b28"
      },
      "outputs": [
        {
          "output_type": "stream",
          "name": "stdout",
          "text": [
            "[('Hello', 'NNP'), ('everyone', 'NN'), ('.', '.'), ('It', 'PRP'), (\"'s\", 'VBZ'), ('good', 'JJ'), ('to', 'TO'), ('see', 'VB'), ('you', 'PRP'), ('.', '.'), ('Let', 'VB'), (\"'s\", 'POS'), ('start', 'VB'), ('our', 'PRP$'), ('text', 'NN'), ('mining', 'NN'), ('class', 'NN'), ('!', '.')]\n"
          ]
        }
      ],
      "source": [
        "import nltk\n",
        "from nltk.tokenize import word_tokenize\n",
        "\n",
        "tokens = word_tokenize(\"Hello everyone. It's good to see you. Let's start our text mining class!\")\n",
        "print(nltk.pos_tag(tokens))"
      ]
    },
    {
      "cell_type": "code",
      "execution_count": null,
      "metadata": {
        "colab": {
          "base_uri": "https://localhost:8080/"
        },
        "id": "z_5ZlhZfxx62",
        "outputId": "10ba2c93-5cbe-4169-da8f-9a18e4ab698c"
      },
      "outputs": [
        {
          "output_type": "stream",
          "name": "stdout",
          "text": [
            "CC: conjunction, coordinating\n",
            "    & 'n and both but either et for less minus neither nor or plus so\n",
            "    therefore times v. versus vs. whether yet\n"
          ]
        }
      ],
      "source": [
        "nltk.help.upenn_tagset('CC')"
      ]
    },
    {
      "cell_type": "code",
      "execution_count": null,
      "metadata": {
        "colab": {
          "base_uri": "https://localhost:8080/"
        },
        "id": "_R74MIbZxx62",
        "outputId": "57fee069-120c-4318-f57e-d84a8dbdae02"
      },
      "outputs": [
        {
          "output_type": "stream",
          "name": "stdout",
          "text": [
            "['everyone', 'good', 'see', 'Let', 'start', 'text', 'mining', 'class']\n"
          ]
        }
      ],
      "source": [
        "my_tag_set = ['NN', 'VB', 'JJ']\n",
        "my_words = [word for word, tag in nltk.pos_tag(tokens) if tag in my_tag_set]\n",
        "print(my_words)"
      ]
    },
    {
      "cell_type": "code",
      "execution_count": null,
      "metadata": {
        "colab": {
          "base_uri": "https://localhost:8080/"
        },
        "id": "MbBcZW7bxx62",
        "outputId": "838ccd07-8888-4b7c-b0b9-964a29478239"
      },
      "outputs": [
        {
          "output_type": "stream",
          "name": "stdout",
          "text": [
            "['Hello/NNP', 'everyone/NN', './.', 'It/PRP', \"'s/VBZ\", 'good/JJ', 'to/TO', 'see/VB', 'you/PRP', './.', 'Let/VB', \"'s/POS\", 'start/VB', 'our/PRP$', 'text/NN', 'mining/NN', 'class/NN', '!/.']\n"
          ]
        }
      ],
      "source": [
        "words_with_tag = ['/'.join(item) for item in nltk.pos_tag(tokens)]\n",
        "print(words_with_tag)"
      ]
    },
    {
      "cell_type": "markdown",
      "metadata": {
        "id": "Mlz30XdRxx63"
      },
      "source": [
        "## 3.3 한글 형태소 분석과 품사 태깅"
      ]
    },
    {
      "cell_type": "code",
      "execution_count": null,
      "metadata": {
        "id": "kavhYk9pxx63"
      },
      "outputs": [],
      "source": [
        "sentence = '''절망의 반대가 희망은 아니다.\n",
        "어두운 밤하늘에 별이 빛나듯\n",
        "희망은 절망 속에 싹트는 거지\n",
        "만약에 우리가 희망함이 적다면\n",
        "그 누가 세상을 비출어줄까.\n",
        "정희성, 희망 공부'''"
      ]
    },
    {
      "cell_type": "code",
      "execution_count": null,
      "metadata": {
        "colab": {
          "base_uri": "https://localhost:8080/"
        },
        "id": "4qPKcrRqxx63",
        "outputId": "b95981e4-c50f-435d-8af4-6e358d5bed06"
      },
      "outputs": [
        {
          "output_type": "stream",
          "name": "stdout",
          "text": [
            "['절망의', '반대가', '희망은', '아니다', '.', '어두운', '밤하늘에', '별이', '빛나듯', '희망은', '절망', '속에', '싹트는', '거지', '만약에', '우리가', '희망함이', '적다면', '그', '누가', '세상을', '비출어줄까', '.', '정희성', ',', '희망', '공부']\n",
            "[('절망의', 'JJ'), ('반대가', 'NNP'), ('희망은', 'NNP'), ('아니다', 'NNP'), ('.', '.'), ('어두운', 'VB'), ('밤하늘에', 'JJ'), ('별이', 'NNP'), ('빛나듯', 'NNP'), ('희망은', 'NNP'), ('절망', 'NNP'), ('속에', 'NNP'), ('싹트는', 'NNP'), ('거지', 'NNP'), ('만약에', 'NNP'), ('우리가', 'NNP'), ('희망함이', 'NNP'), ('적다면', 'NNP'), ('그', 'NNP'), ('누가', 'NNP'), ('세상을', 'NNP'), ('비출어줄까', 'NNP'), ('.', '.'), ('정희성', 'NN'), (',', ','), ('희망', 'NNP'), ('공부', 'NNP')]\n"
          ]
        }
      ],
      "source": [
        "tokens = word_tokenize(sentence)\n",
        "print(tokens)\n",
        "print(nltk.pos_tag(tokens))"
      ]
    },
    {
      "cell_type": "markdown",
      "metadata": {
        "id": "VP5UGJU2xx63"
      },
      "source": [
        "### KoNLPy 설치\n",
        "\n",
        "https://konlpy.org/ko/latest/install/"
      ]
    },
    {
      "cell_type": "code",
      "source": [
        "%pip install konlpy"
      ],
      "metadata": {
        "colab": {
          "base_uri": "https://localhost:8080/"
        },
        "id": "osqrX-FAyuAG",
        "outputId": "c4ac3127-91cf-477f-b4ba-b64e54306a11"
      },
      "execution_count": null,
      "outputs": [
        {
          "output_type": "stream",
          "name": "stdout",
          "text": [
            "Collecting konlpy\n",
            "  Downloading konlpy-0.6.0-py2.py3-none-any.whl.metadata (1.9 kB)\n",
            "Collecting JPype1>=0.7.0 (from konlpy)\n",
            "  Downloading jpype1-1.6.0-cp312-cp312-manylinux2014_x86_64.manylinux_2_17_x86_64.whl.metadata (5.0 kB)\n",
            "Requirement already satisfied: lxml>=4.1.0 in /usr/local/lib/python3.12/dist-packages (from konlpy) (5.4.0)\n",
            "Requirement already satisfied: numpy>=1.6 in /usr/local/lib/python3.12/dist-packages (from konlpy) (2.0.2)\n",
            "Requirement already satisfied: packaging in /usr/local/lib/python3.12/dist-packages (from JPype1>=0.7.0->konlpy) (25.0)\n",
            "Downloading konlpy-0.6.0-py2.py3-none-any.whl (19.4 MB)\n",
            "\u001b[2K   \u001b[90m━━━━━━━━━━━━━━━━━━━━━━━━━━━━━━━━━━━━━━━━\u001b[0m \u001b[32m19.4/19.4 MB\u001b[0m \u001b[31m69.4 MB/s\u001b[0m eta \u001b[36m0:00:00\u001b[0m\n",
            "\u001b[?25hDownloading jpype1-1.6.0-cp312-cp312-manylinux2014_x86_64.manylinux_2_17_x86_64.whl (495 kB)\n",
            "\u001b[2K   \u001b[90m━━━━━━━━━━━━━━━━━━━━━━━━━━━━━━━━━━━━━━━━\u001b[0m \u001b[32m495.9/495.9 kB\u001b[0m \u001b[31m31.4 MB/s\u001b[0m eta \u001b[36m0:00:00\u001b[0m\n",
            "\u001b[?25hInstalling collected packages: JPype1, konlpy\n",
            "Successfully installed JPype1-1.6.0 konlpy-0.6.0\n"
          ]
        }
      ]
    },
    {
      "cell_type": "code",
      "source": [],
      "metadata": {
        "id": "edNXWhrPyxZO"
      },
      "execution_count": null,
      "outputs": []
    },
    {
      "cell_type": "code",
      "execution_count": null,
      "metadata": {
        "id": "4pirmgjbxx63"
      },
      "outputs": [],
      "source": [
        "from konlpy.tag import Okt\n",
        "t = Okt()"
      ]
    },
    {
      "cell_type": "code",
      "execution_count": null,
      "metadata": {
        "scrolled": true,
        "colab": {
          "base_uri": "https://localhost:8080/"
        },
        "id": "nVxNcOFfxx63",
        "outputId": "d61f0d9f-d3c7-4d46-dd6f-a360e671fae4"
      },
      "outputs": [
        {
          "output_type": "stream",
          "name": "stdout",
          "text": [
            "형태소: ['절망', '의', '반대', '가', '희망', '은', '아니다', '.', '\\n', '어', '두운', '밤하늘', '에', '별', '이', '빛나듯', '\\n', '희망', '은', '절망', '속', '에', '싹트는', '거지', '\\n', '만약', '에', '우리', '가', '희망', '함', '이', '적다면', '\\n', '그', '누가', '세상', '을', '비출어줄까', '.', '\\n', '정희성', ',', '희망', '공부']\n",
            "\n",
            "명사: ['절망', '반대', '희망', '어', '두운', '밤하늘', '별', '희망', '절망', '속', '거지', '만약', '우리', '희망', '함', '그', '누가', '세상', '정희성', '희망', '공부']\n",
            "\n",
            "품사 태깅 결과: [('절망', 'Noun'), ('의', 'Josa'), ('반대', 'Noun'), ('가', 'Josa'), ('희망', 'Noun'), ('은', 'Josa'), ('아니다', 'Adjective'), ('.', 'Punctuation'), ('\\n', 'Foreign'), ('어', 'Noun'), ('두운', 'Noun'), ('밤하늘', 'Noun'), ('에', 'Josa'), ('별', 'Noun'), ('이', 'Josa'), ('빛나듯', 'Verb'), ('\\n', 'Foreign'), ('희망', 'Noun'), ('은', 'Josa'), ('절망', 'Noun'), ('속', 'Noun'), ('에', 'Josa'), ('싹트는', 'Verb'), ('거지', 'Noun'), ('\\n', 'Foreign'), ('만약', 'Noun'), ('에', 'Josa'), ('우리', 'Noun'), ('가', 'Josa'), ('희망', 'Noun'), ('함', 'Noun'), ('이', 'Josa'), ('적다면', 'Verb'), ('\\n', 'Foreign'), ('그', 'Noun'), ('누가', 'Noun'), ('세상', 'Noun'), ('을', 'Josa'), ('비출어줄까', 'Verb'), ('.', 'Punctuation'), ('\\n', 'Foreign'), ('정희성', 'Noun'), (',', 'Punctuation'), ('희망', 'Noun'), ('공부', 'Noun')]\n"
          ]
        }
      ],
      "source": [
        "print('형태소:', t.morphs(sentence))\n",
        "print()\n",
        "print('명사:', t.nouns(sentence))\n",
        "print()\n",
        "print('품사 태깅 결과:', t.pos(sentence))"
      ]
    },
    {
      "cell_type": "code",
      "execution_count": null,
      "metadata": {
        "colab": {
          "base_uri": "https://localhost:8080/"
        },
        "id": "NATGUO2Zxx64",
        "outputId": "a30fb1a8-9dc9-43df-ee12-f7f19fb223b6"
      },
      "outputs": [
        {
          "output_type": "stream",
          "name": "stdout",
          "text": [
            "openjdk version \"11.0.28\" 2025-07-15\n",
            "OpenJDK Runtime Environment (build 11.0.28+6-post-Ubuntu-1ubuntu122.04.1)\n",
            "OpenJDK 64-Bit Server VM (build 11.0.28+6-post-Ubuntu-1ubuntu122.04.1, mixed mode, sharing)\n"
          ]
        }
      ],
      "source": [
        "!java -version"
      ]
    },
    {
      "cell_type": "code",
      "source": [],
      "metadata": {
        "id": "9etJ0FMWzEWv"
      },
      "execution_count": null,
      "outputs": []
    }
  ],
  "metadata": {
    "kernelspec": {
      "display_name": "Python 3 (ipykernel)",
      "language": "python",
      "name": "python3"
    },
    "language_info": {
      "codemirror_mode": {
        "name": "ipython",
        "version": 3
      },
      "file_extension": ".py",
      "mimetype": "text/x-python",
      "name": "python",
      "nbconvert_exporter": "python",
      "pygments_lexer": "ipython3",
      "version": "3.9.13"
    },
    "toc": {
      "base_numbering": 1,
      "nav_menu": {},
      "number_sections": true,
      "sideBar": true,
      "skip_h1_title": false,
      "title_cell": "Table of Contents",
      "title_sidebar": "Contents",
      "toc_cell": true,
      "toc_position": {},
      "toc_section_display": true,
      "toc_window_display": true
    },
    "varInspector": {
      "cols": {
        "lenName": 16,
        "lenType": 16,
        "lenVar": 40
      },
      "kernels_config": {
        "python": {
          "delete_cmd_postfix": "",
          "delete_cmd_prefix": "del ",
          "library": "var_list.py",
          "varRefreshCmd": "print(var_dic_list())"
        },
        "r": {
          "delete_cmd_postfix": ") ",
          "delete_cmd_prefix": "rm(",
          "library": "var_list.r",
          "varRefreshCmd": "cat(var_dic_list()) "
        }
      },
      "types_to_exclude": [
        "module",
        "function",
        "builtin_function_or_method",
        "instance",
        "_Feature"
      ],
      "window_display": false
    },
    "colab": {
      "provenance": []
    }
  },
  "nbformat": 4,
  "nbformat_minor": 0
}